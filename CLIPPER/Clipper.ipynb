{
 "cells": [
  {
   "cell_type": "markdown",
   "id": "8469250b-fc9c-4e79-bd29-a8abf47aeb10",
   "metadata": {},
   "source": [
    "# Moviepy\n",
    "\n",
    "Librería de Python utilizada para optimizar la edición de videos. ref: https://pypi.org/project/moviepy\n",
    "\n",
    "Última actualización: 19/08/2025"
   ]
  },
  {
   "cell_type": "markdown",
   "id": "661f2aee-bd23-48ec-a4ef-c3c8e89a0991",
   "metadata": {},
   "source": [
    "### Instalación de módulos"
   ]
  },
  {
   "cell_type": "code",
   "execution_count": null,
   "id": "502c8805-5dd5-4fc9-8d29-f579e9956745",
   "metadata": {},
   "outputs": [],
   "source": [
    "# Instalar librería en el cuaderno.\n",
    "!pip install moviepy"
   ]
  },
  {
   "cell_type": "code",
   "execution_count": null,
   "id": "eb9e5922-36e5-4159-af5b-578bf687723b",
   "metadata": {},
   "outputs": [],
   "source": [
    "# Importar módulos\n",
    "from moviepy.video.io.VideoFileClip import VideoFileClip\n",
    "print(\"|---------- Librerías importadas correctamente ----------|\")"
   ]
  },
  {
   "cell_type": "markdown",
   "id": "a8f0e50c-6e6a-41bc-b5fa-7653630c0724",
   "metadata": {},
   "source": [
    "### Función para crear clips\n",
    "\n",
    "Los clips tendrán una duración de 5 minutos."
   ]
  },
  {
   "cell_type": "code",
   "execution_count": null,
   "id": "03a3c7cd-a1cd-4b6f-8db3-71f854b5afab",
   "metadata": {},
   "outputs": [],
   "source": [
    "def split_video(video_path, chunk_length=300):\n",
    "    video = VideoFileClip(video_path)\n",
    "    duration = int(video.duration)\n",
    "\n",
    "    for start in range(0, duration, chunk_length):\n",
    "        end = min(start + chunk_length, duration)\n",
    "        new_clip = video.subclipped(start, end)\n",
    "        new_clip.write_videofile(f\"título-{start//chunk_length:03d}.mp4\", codec=\"libx264\")\n",
    "\n",
    "split_video(r\"C:\\Tu-directorio\", 300)"
   ]
  }
 ],
 "metadata": {
  "kernelspec": {
   "display_name": "Python [conda env:base] *",
   "language": "python",
   "name": "conda-base-py"
  },
  "language_info": {
   "codemirror_mode": {
    "name": "ipython",
    "version": 3
   },
   "file_extension": ".py",
   "mimetype": "text/x-python",
   "name": "python",
   "nbconvert_exporter": "python",
   "pygments_lexer": "ipython3",
   "version": "3.12.7"
  }
 },
 "nbformat": 4,
 "nbformat_minor": 5
}
